{
 "cells": [
  {
   "cell_type": "markdown",
   "id": "6655ee89",
   "metadata": {},
   "source": [
    "# 📌 Dashboards Assignment: Interactive Dash Applications\n",
    "\n",
    "## **Objective**  \n",
    "Create Dash applications that demonstrate **State, multiple inputs, and multiple outputs** in interactive dashboards.\n",
    "\n",
    "---"
   ]
  },
  {
   "cell_type": "markdown",
   "id": "ea48e223-c9f9-4b98-bdbb-b0ca151db54e",
   "metadata": {},
   "source": [
    "\n",
    "## **📝 Task 1: Live Text Update vs. Button-Triggered Update**\n",
    "### **Requirement**\n",
    "- Build a simple Dash app that includes:\n",
    "  - **An input box (`dcc.Input`)** where the user types text.\n",
    "  - **Two ways to update the text display:**\n",
    "    1. **Live Update:** The displayed text updates dynamically as the user types.\n",
    "    2. **Button-Triggered Update:** The displayed text updates **only when a button is clicked**.\n",
    "### **Example Layout**\n",
    "- `dcc.Input`: User enters text.\n",
    "- `html.Button`: Triggers the text update (for `State` example).\n",
    "- `html.H3`: Displays the entered text.\n",
    "\n",
    "---\n"
   ]
  },
  {
   "cell_type": "code",
   "execution_count": null,
   "id": "d346e6b0-e9ca-4511-9ef7-c12cf962a54c",
   "metadata": {},
   "outputs": [],
   "source": []
  },
  {
   "cell_type": "markdown",
   "id": "9069bfa8-0961-41c2-85f4-37add3f9ab8b",
   "metadata": {},
   "source": [
    "---\n",
    "\n",
    "## **📝 Task 2: Interactive Chart with Multiple Inputs**\n",
    "### **Requirement**\n",
    "- Build a **data visualization dashboard** where:\n",
    "  - A user selects a **country** from a dropdown menu.\n",
    "  - A slider allows adjusting the **year range** for data filtering.\n",
    "  - A **line chart (`dcc.Graph`)** updates dynamically to show trends based on both inputs.\n",
    "\n",
    "### **Example Layout**\n",
    "- `dcc.Dropdown`: Select a country.\n",
    "- `dcc.RangeSlider`: Select a year range.\n",
    "- `dcc.Graph`: Displays filtered data as a line chart.\n",
    "\n",
    "---\n"
   ]
  },
  {
   "cell_type": "code",
   "execution_count": null,
   "id": "5871260c-46f5-42da-ab02-29bf0323507d",
   "metadata": {},
   "outputs": [],
   "source": []
  },
  {
   "cell_type": "markdown",
   "id": "6e5de9ff-b521-47cb-a3f6-b673f28f5507",
   "metadata": {},
   "source": [
    "\n",
    "---\n",
    "\n",
    "## **📝 Task 3: Multiple Outputs - Interactive UI Updates**\n",
    "### **Requirement**\n",
    "- Create an interactive dashboard where clicking a button updates **two components simultaneously**:\n",
    "  - A **text component (`H3`)** displaying how many times the button has been clicked.\n",
    "  - A **background color of a div (`html.Div`)**, which changes color randomly on each click.\n",
    "\n",
    "### **Example Layout**\n",
    "- `html.Button`: Click to trigger updates.\n",
    "- `html.H3`: Displays the number of clicks.\n",
    "- `html.Div`: Background color changes dynamically.\n",
    "\n",
    "---\n"
   ]
  },
  {
   "cell_type": "code",
   "execution_count": null,
   "id": "b76915b3-d469-4ad3-8038-d9e4d66bc682",
   "metadata": {},
   "outputs": [],
   "source": []
  },
  {
   "cell_type": "markdown",
   "id": "f816aecb-3e63-4dea-9fec-53a7e455e81c",
   "metadata": {},
   "source": [
    "---\n",
    "# 📌 Task 4: Interactive Scatter Plot with User Controls using NumPy & Dash\n",
    "\n",
    "## 🔹 Objective\n",
    "Build an **interactive scatter plot** where users can dynamically select:\n",
    "- The **X-axis feature** (e.g., numerical values from the dataset).\n",
    "- The **Y-axis feature** (another numerical column).\n",
    "\n",
    "We will generate **synthetic data** using **NumPy** instead of using built-in datasets like Iris.\n",
    "\n",
    "## 🔹 How It Works\n",
    "### **1️⃣ Generate Random Data using NumPy**\n",
    "# Create a dataset with 500 random points\n",
    "\n",
    "```python\n",
    "num_samples = 500\n",
    "- Feature_A: Normally distributed values around 50 with a standard deviation of 15. (X)\n",
    "     np.random.normal(50, 15, num_samples)\n",
    "- Feature_B: Random values uniformly distributed between 10 and 100. (Y)\n",
    "     np.random.uniform(10, 100, num_samples)\n",
    "- Feature_C: Random integer values between 1 and 100. (Z)                                                             \n",
    "    np.random.randint(1, 100, num_samples)"
   ]
  },
  {
   "cell_type": "markdown",
   "id": "2229a682-06a5-43a6-8783-af096e6b04e5",
   "metadata": {},
   "source": [
    "### **2️⃣ Build an Interactive Dashboard using Dash**\n",
    "- Users can choose **X and Y** or **Z and Y**  features from dropdown menus.\n",
    "- A **scatter plot dynamically updates** based on the selections.\n",
    "\n",
    "---"
   ]
  },
  {
   "cell_type": "code",
   "execution_count": null,
   "id": "0925fa97-617f-45e2-9778-f806b5917030",
   "metadata": {},
   "outputs": [],
   "source": []
  }
 ],
 "metadata": {
  "kernelspec": {
   "display_name": "Python [conda env:base] *",
   "language": "python",
   "name": "conda-base-py"
  },
  "language_info": {
   "codemirror_mode": {
    "name": "ipython",
    "version": 3
   },
   "file_extension": ".py",
   "mimetype": "text/x-python",
   "name": "python",
   "nbconvert_exporter": "python",
   "pygments_lexer": "ipython3",
   "version": "3.12.7"
  }
 },
 "nbformat": 4,
 "nbformat_minor": 5
}
